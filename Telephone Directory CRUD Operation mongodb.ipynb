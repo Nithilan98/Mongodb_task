{
 "cells": [
  {
   "cell_type": "code",
   "execution_count": 6,
   "id": "0c3dbaf5",
   "metadata": {},
   "outputs": [],
   "source": [
    "#import necessary modules\n",
    "import pymongo\n",
    "\n",
    "\n",
    "##create a Database\n",
    "client = pymongo.MongoClient('mongodb://127.0.0.1:27017/') #connect to the local mongodb server\n",
    "\n",
    "mydb = client['telephone'] #connect to the database\n",
    "\n",
    "\n",
    "##create a collections\n",
    "\n",
    "info = mydb.directory  #connect the collection"
   ]
  },
  {
   "cell_type": "code",
   "execution_count": 5,
   "id": "39d09480",
   "metadata": {},
   "outputs": [
    {
     "data": {
      "text/plain": [
       "<pymongo.results.InsertOneResult at 0x7f4993e5fa40>"
      ]
     },
     "execution_count": 5,
     "metadata": {},
     "output_type": "execute_result"
    }
   ],
   "source": [
    "record={\n",
    "    \"name\":\"nithilaselvan\",\n",
    "    \"phone\":9585829564,\n",
    "    \"age\" :24,\n",
    "    \"place\":\"chennai\"\n",
    "    \n",
    "}\n",
    "info.insert_one(record)"
   ]
  },
  {
   "cell_type": "markdown",
   "id": "b551a348",
   "metadata": {},
   "source": [
    "### Insert the mutlitple record into collections "
   ]
  },
  {
   "cell_type": "code",
   "execution_count": 8,
   "id": "c2c05189",
   "metadata": {},
   "outputs": [],
   "source": [
    "records=[\n",
    "    {\n",
    "    \"name\":\"ragu\",\n",
    "    \"phone\":8865421579,\n",
    "    \"age\" :24,\n",
    "    \"place\":\"trichy\"\n",
    "    \n",
    "},\n",
    "     {\n",
    "    \"name\":\"vinoth\",\n",
    "    \"phone\":8865421538,\n",
    "    \"age\" :24,\n",
    "    \"place\":\"madurai\"\n",
    "    \n",
    "},\n",
    "     {\n",
    "    \"name\":\"jenil rath\",\n",
    "    \"phone\":8865427595,\n",
    "    \"age\" :24,\n",
    "    \"place\":\"sivagangai\"\n",
    "    \n",
    "},\n",
    "     {\n",
    "    \"name\":\"yosuva\",\n",
    "    \"phone\":8886667772,\n",
    "    \"age\" :20,\n",
    "    \"place\":\"trichy\"\n",
    "    \n",
    "}]"
   ]
  },
  {
   "cell_type": "code",
   "execution_count": 9,
   "id": "b3274946",
   "metadata": {},
   "outputs": [
    {
     "data": {
      "text/plain": [
       "<pymongo.results.InsertManyResult at 0x7f4993e6d480>"
      ]
     },
     "execution_count": 9,
     "metadata": {},
     "output_type": "execute_result"
    }
   ],
   "source": [
    "#Insert the many records using insert_many() method\n",
    "\n",
    "info.insert_many(records)"
   ]
  },
  {
   "cell_type": "markdown",
   "id": "385579ef",
   "metadata": {},
   "source": [
    "### Query to find or view the records "
   ]
  },
  {
   "cell_type": "code",
   "execution_count": 10,
   "id": "72fc1ce6",
   "metadata": {
    "scrolled": true
   },
   "outputs": [
    {
     "name": "stdout",
     "output_type": "stream",
     "text": [
      "{'_id': ObjectId('6225bf042c9a0b0fefc870fa'), 'name': 'nithilaselvan', 'phone': 9585829564, 'age': 24, 'place': 'chennai'}\n",
      "{'_id': ObjectId('6225c0572c9a0b0fefc870fc'), 'name': 'ragu', 'phone': 8865421579, 'age': 24, 'place': 'trichy'}\n",
      "{'_id': ObjectId('6225c0572c9a0b0fefc870fd'), 'name': 'vinoth', 'phone': 8865421538, 'age': 24, 'place': 'madurai'}\n",
      "{'_id': ObjectId('6225c0572c9a0b0fefc870fe'), 'name': 'jenil rath', 'phone': 8865427595, 'age': 24, 'place': 'sivagangai'}\n",
      "{'_id': ObjectId('6225c0572c9a0b0fefc870ff'), 'name': 'yosuva', 'phone': 8886667772, 'age': 20, 'place': 'trichy'}\n"
     ]
    }
   ],
   "source": [
    "for x in info.find():\n",
    "    print(x)"
   ]
  },
  {
   "cell_type": "markdown",
   "id": "b95bee65",
   "metadata": {},
   "source": [
    "### Modify the Records "
   ]
  },
  {
   "cell_type": "code",
   "execution_count": 11,
   "id": "cbe71f51",
   "metadata": {},
   "outputs": [
    {
     "data": {
      "text/plain": [
       "<pymongo.results.UpdateResult at 0x7f4991e0bb00>"
      ]
     },
     "execution_count": 11,
     "metadata": {},
     "output_type": "execute_result"
    }
   ],
   "source": [
    "## modify the records using update_one() method\n",
    "\n",
    "info.update_one(\n",
    "{\"name\":\"yosuva\"},\n",
    "{\"$set\":{\"age\": 19}}\n",
    ")"
   ]
  },
  {
   "cell_type": "code",
   "execution_count": 12,
   "id": "13927031",
   "metadata": {},
   "outputs": [
    {
     "name": "stdout",
     "output_type": "stream",
     "text": [
      "{'_id': ObjectId('6225bf042c9a0b0fefc870fa'), 'name': 'nithilaselvan', 'phone': 9585829564, 'age': 24, 'place': 'chennai'}\n",
      "{'_id': ObjectId('6225c0572c9a0b0fefc870fc'), 'name': 'ragu', 'phone': 8865421579, 'age': 24, 'place': 'trichy'}\n",
      "{'_id': ObjectId('6225c0572c9a0b0fefc870fd'), 'name': 'vinoth', 'phone': 8865421538, 'age': 24, 'place': 'madurai'}\n",
      "{'_id': ObjectId('6225c0572c9a0b0fefc870fe'), 'name': 'jenil rath', 'phone': 8865427595, 'age': 24, 'place': 'sivagangai'}\n",
      "{'_id': ObjectId('6225c0572c9a0b0fefc870ff'), 'name': 'yosuva', 'phone': 8886667772, 'age': 19, 'place': 'trichy'}\n"
     ]
    }
   ],
   "source": [
    "for x in info.find():\n",
    "    print(x)"
   ]
  },
  {
   "cell_type": "markdown",
   "id": "cf02fc87",
   "metadata": {},
   "source": [
    "### Delete the Record"
   ]
  },
  {
   "cell_type": "code",
   "execution_count": 16,
   "id": "fe654468",
   "metadata": {},
   "outputs": [
    {
     "name": "stdout",
     "output_type": "stream",
     "text": [
      "record deleted\n"
     ]
    }
   ],
   "source": [
    "#Delete the record using delete_one() method\n",
    "\n",
    "info.delete_one({\"name\":\"nithilaselvan\"})\n",
    "print(\"record deleted\")"
   ]
  },
  {
   "cell_type": "code",
   "execution_count": 17,
   "id": "19d8aceb",
   "metadata": {},
   "outputs": [
    {
     "name": "stdout",
     "output_type": "stream",
     "text": [
      "{'_id': ObjectId('6225c0572c9a0b0fefc870fc'), 'name': 'ragu', 'phone': 8865421579, 'age': 24, 'place': 'trichy'}\n",
      "{'_id': ObjectId('6225c0572c9a0b0fefc870fd'), 'name': 'vinoth', 'phone': 8865421538, 'age': 24, 'place': 'madurai'}\n",
      "{'_id': ObjectId('6225c0572c9a0b0fefc870fe'), 'name': 'jenil rath', 'phone': 8865427595, 'age': 24, 'place': 'sivagangai'}\n",
      "{'_id': ObjectId('6225c0572c9a0b0fefc870ff'), 'name': 'yosuva', 'phone': 8886667772, 'age': 19, 'place': 'trichy'}\n"
     ]
    }
   ],
   "source": [
    "for x in info.find():\n",
    "    print(x)"
   ]
  },
  {
   "cell_type": "code",
   "execution_count": null,
   "id": "c3952732",
   "metadata": {},
   "outputs": [],
   "source": []
  }
 ],
 "metadata": {
  "kernelspec": {
   "display_name": "Python 3",
   "language": "python",
   "name": "python3"
  },
  "language_info": {
   "codemirror_mode": {
    "name": "ipython",
    "version": 3
   },
   "file_extension": ".py",
   "mimetype": "text/x-python",
   "name": "python",
   "nbconvert_exporter": "python",
   "pygments_lexer": "ipython3",
   "version": "3.8.8"
  }
 },
 "nbformat": 4,
 "nbformat_minor": 5
}
